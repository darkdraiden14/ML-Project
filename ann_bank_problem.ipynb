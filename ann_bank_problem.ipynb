{
 "cells": [
  {
   "cell_type": "code",
   "execution_count": 1,
   "metadata": {},
   "outputs": [],
   "source": [
    "# loading data via pandas\n",
    "import pandas as pd\n",
    "import numpy as np\n",
    "import matplotlib.pyplot as plt\n",
    "import seaborn as sb"
   ]
  },
  {
   "cell_type": "code",
   "execution_count": 2,
   "metadata": {},
   "outputs": [],
   "source": [
    "# loading data from URL and converting into dataframe\n",
    "df = pd.read_csv('http://13.234.66.67/summer19/datasets/bank.csv')"
   ]
  },
  {
   "cell_type": "code",
   "execution_count": 3,
   "metadata": {},
   "outputs": [
    {
     "name": "stdout",
     "output_type": "stream",
     "text": [
      "<class 'pandas.core.frame.DataFrame'>\n",
      "RangeIndex: 10000 entries, 0 to 9999\n",
      "Data columns (total 14 columns):\n",
      "RowNumber          10000 non-null int64\n",
      "CustomerId         10000 non-null int64\n",
      "Surname            10000 non-null object\n",
      "CreditScore        10000 non-null int64\n",
      "Geography          10000 non-null object\n",
      "Gender             10000 non-null object\n",
      "Age                10000 non-null int64\n",
      "Tenure             10000 non-null int64\n",
      "Balance            10000 non-null float64\n",
      "NumOfProducts      10000 non-null int64\n",
      "HasCrCard          10000 non-null int64\n",
      "IsActiveMember     10000 non-null int64\n",
      "EstimatedSalary    10000 non-null float64\n",
      "Exited             10000 non-null int64\n",
      "dtypes: float64(2), int64(9), object(3)\n",
      "memory usage: 1.1+ MB\n"
     ]
    }
   ],
   "source": [
    "# schema\n",
    "df.info()"
   ]
  },
  {
   "cell_type": "code",
   "execution_count": 4,
   "metadata": {},
   "outputs": [
    {
     "data": {
      "text/html": [
       "<div>\n",
       "<style scoped>\n",
       "    .dataframe tbody tr th:only-of-type {\n",
       "        vertical-align: middle;\n",
       "    }\n",
       "\n",
       "    .dataframe tbody tr th {\n",
       "        vertical-align: top;\n",
       "    }\n",
       "\n",
       "    .dataframe thead th {\n",
       "        text-align: right;\n",
       "    }\n",
       "</style>\n",
       "<table border=\"1\" class=\"dataframe\">\n",
       "  <thead>\n",
       "    <tr style=\"text-align: right;\">\n",
       "      <th></th>\n",
       "      <th>RowNumber</th>\n",
       "      <th>CustomerId</th>\n",
       "      <th>Surname</th>\n",
       "      <th>CreditScore</th>\n",
       "      <th>Geography</th>\n",
       "      <th>Gender</th>\n",
       "      <th>Age</th>\n",
       "      <th>Tenure</th>\n",
       "      <th>Balance</th>\n",
       "      <th>NumOfProducts</th>\n",
       "      <th>HasCrCard</th>\n",
       "      <th>IsActiveMember</th>\n",
       "      <th>EstimatedSalary</th>\n",
       "      <th>Exited</th>\n",
       "    </tr>\n",
       "  </thead>\n",
       "  <tbody>\n",
       "    <tr>\n",
       "      <th>0</th>\n",
       "      <td>1</td>\n",
       "      <td>15634602</td>\n",
       "      <td>Hargrave</td>\n",
       "      <td>619</td>\n",
       "      <td>France</td>\n",
       "      <td>Female</td>\n",
       "      <td>42</td>\n",
       "      <td>2</td>\n",
       "      <td>0.00</td>\n",
       "      <td>1</td>\n",
       "      <td>1</td>\n",
       "      <td>1</td>\n",
       "      <td>101348.88</td>\n",
       "      <td>1</td>\n",
       "    </tr>\n",
       "    <tr>\n",
       "      <th>1</th>\n",
       "      <td>2</td>\n",
       "      <td>15647311</td>\n",
       "      <td>Hill</td>\n",
       "      <td>608</td>\n",
       "      <td>Spain</td>\n",
       "      <td>Female</td>\n",
       "      <td>41</td>\n",
       "      <td>1</td>\n",
       "      <td>83807.86</td>\n",
       "      <td>1</td>\n",
       "      <td>0</td>\n",
       "      <td>1</td>\n",
       "      <td>112542.58</td>\n",
       "      <td>0</td>\n",
       "    </tr>\n",
       "    <tr>\n",
       "      <th>2</th>\n",
       "      <td>3</td>\n",
       "      <td>15619304</td>\n",
       "      <td>Onio</td>\n",
       "      <td>502</td>\n",
       "      <td>France</td>\n",
       "      <td>Female</td>\n",
       "      <td>42</td>\n",
       "      <td>8</td>\n",
       "      <td>159660.80</td>\n",
       "      <td>3</td>\n",
       "      <td>1</td>\n",
       "      <td>0</td>\n",
       "      <td>113931.57</td>\n",
       "      <td>1</td>\n",
       "    </tr>\n",
       "    <tr>\n",
       "      <th>3</th>\n",
       "      <td>4</td>\n",
       "      <td>15701354</td>\n",
       "      <td>Boni</td>\n",
       "      <td>699</td>\n",
       "      <td>France</td>\n",
       "      <td>Female</td>\n",
       "      <td>39</td>\n",
       "      <td>1</td>\n",
       "      <td>0.00</td>\n",
       "      <td>2</td>\n",
       "      <td>0</td>\n",
       "      <td>0</td>\n",
       "      <td>93826.63</td>\n",
       "      <td>0</td>\n",
       "    </tr>\n",
       "    <tr>\n",
       "      <th>4</th>\n",
       "      <td>5</td>\n",
       "      <td>15737888</td>\n",
       "      <td>Mitchell</td>\n",
       "      <td>850</td>\n",
       "      <td>Spain</td>\n",
       "      <td>Female</td>\n",
       "      <td>43</td>\n",
       "      <td>2</td>\n",
       "      <td>125510.82</td>\n",
       "      <td>1</td>\n",
       "      <td>1</td>\n",
       "      <td>1</td>\n",
       "      <td>79084.10</td>\n",
       "      <td>0</td>\n",
       "    </tr>\n",
       "  </tbody>\n",
       "</table>\n",
       "</div>"
      ],
      "text/plain": [
       "   RowNumber  CustomerId   Surname  CreditScore Geography  Gender  Age  \\\n",
       "0          1    15634602  Hargrave          619    France  Female   42   \n",
       "1          2    15647311      Hill          608     Spain  Female   41   \n",
       "2          3    15619304      Onio          502    France  Female   42   \n",
       "3          4    15701354      Boni          699    France  Female   39   \n",
       "4          5    15737888  Mitchell          850     Spain  Female   43   \n",
       "\n",
       "   Tenure    Balance  NumOfProducts  HasCrCard  IsActiveMember  \\\n",
       "0       2       0.00              1          1               1   \n",
       "1       1   83807.86              1          0               1   \n",
       "2       8  159660.80              3          1               0   \n",
       "3       1       0.00              2          0               0   \n",
       "4       2  125510.82              1          1               1   \n",
       "\n",
       "   EstimatedSalary  Exited  \n",
       "0        101348.88       1  \n",
       "1        112542.58       0  \n",
       "2        113931.57       1  \n",
       "3         93826.63       0  \n",
       "4         79084.10       0  "
      ]
     },
     "execution_count": 4,
     "metadata": {},
     "output_type": "execute_result"
    }
   ],
   "source": [
    "# top 5 rows\n",
    "df.head()"
   ]
  },
  {
   "cell_type": "code",
   "execution_count": 5,
   "metadata": {},
   "outputs": [
    {
     "data": {
      "text/plain": [
       "<matplotlib.axes._subplots.AxesSubplot at 0x7fb85b1a77b8>"
      ]
     },
     "execution_count": 5,
     "metadata": {},
     "output_type": "execute_result"
    },
    {
     "data": {
      "image/png": "[encoded data removed]",
      "text/plain": [
       "<Figure size 432x288 with 1 Axes>"
      ]
     },
     "metadata": {
      "needs_background": "light"
     },
     "output_type": "display_data"
    }
   ],
   "source": [
    "# countplot by seaborn\n",
    "sb.countplot(df['Gender'])"
   ]
  },
  {
   "cell_type": "code",
   "execution_count": 6,
   "metadata": {},
   "outputs": [
    {
     "data": {
      "text/plain": [
       "<matplotlib.axes._subplots.AxesSubplot at 0x7fb85918a518>"
      ]
     },
     "execution_count": 6,
     "metadata": {},
     "output_type": "execute_result"
    },
    {
     "data": {
      "image/png": "[encoded data removed]",
      "text/plain": [
       "<Figure size 432x288 with 1 Axes>"
      ]
     },
     "metadata": {
      "needs_background": "light"
     },
     "output_type": "display_data"
    }
   ],
   "source": [
    "# compare Countries\n",
    "sb.countplot(df['Geography'])"
   ]
  },
  {
   "cell_type": "code",
   "execution_count": 7,
   "metadata": {},
   "outputs": [
    {
     "data": {
      "text/plain": [
       "array([[<matplotlib.axes._subplots.AxesSubplot object at 0x7fb85b190f60>,\n",
       "        <matplotlib.axes._subplots.AxesSubplot object at 0x7fb858a09898>,\n",
       "        <matplotlib.axes._subplots.AxesSubplot object at 0x7fb8589bdc50>],\n",
       "       [<matplotlib.axes._subplots.AxesSubplot object at 0x7fb85897c240>,\n",
       "        <matplotlib.axes._subplots.AxesSubplot object at 0x7fb85892c7f0>,\n",
       "        <matplotlib.axes._subplots.AxesSubplot object at 0x7fb85895dda0>],\n",
       "       [<matplotlib.axes._subplots.AxesSubplot object at 0x7fb85891c358>,\n",
       "        <matplotlib.axes._subplots.AxesSubplot object at 0x7fb8588cd940>,\n",
       "        <matplotlib.axes._subplots.AxesSubplot object at 0x7fb8588cd978>],\n",
       "       [<matplotlib.axes._subplots.AxesSubplot object at 0x7fb85883d4a8>,\n",
       "        <matplotlib.axes._subplots.AxesSubplot object at 0x7fb8587eda58>,\n",
       "        <matplotlib.axes._subplots.AxesSubplot object at 0x7fb8587ac048>]],\n",
       "      dtype=object)"
      ]
     },
     "execution_count": 7,
     "metadata": {},
     "output_type": "execute_result"
    },
    {
     "data": {
      "image/png": "[encoded data removed]",
      "text/plain": [
       "<Figure size 720x1080 with 12 Axes>"
      ]
     },
     "metadata": {
      "needs_background": "light"
     },
     "output_type": "display_data"
    }
   ],
   "source": [
    "# `histogram\n",
    "df.hist(figsize=(10,15))"
   ]
  },
  {
   "cell_type": "code",
   "execution_count": 8,
   "metadata": {},
   "outputs": [],
   "source": [
    "# features and label of data\n",
    "features=df.iloc[0:,3:13].values"
   ]
  },
  {
   "cell_type": "code",
   "execution_count": 9,
   "metadata": {},
   "outputs": [
    {
     "data": {
      "text/plain": [
       "array([[619, 'France', 'Female', ..., 1, 1, 101348.88],\n",
       "       [608, 'Spain', 'Female', ..., 0, 1, 112542.58],\n",
       "       [502, 'France', 'Female', ..., 1, 0, 113931.57],\n",
       "       ...,\n",
       "       [709, 'France', 'Female', ..., 0, 1, 42085.58],\n",
       "       [772, 'Germany', 'Male', ..., 1, 0, 92888.52],\n",
       "       [792, 'France', 'Female', ..., 1, 0, 38190.78]], dtype=object)"
      ]
     },
     "execution_count": 9,
     "metadata": {},
     "output_type": "execute_result"
    }
   ],
   "source": [
    "features"
   ]
  },
  {
   "cell_type": "code",
   "execution_count": 10,
   "metadata": {},
   "outputs": [],
   "source": [
    "# bank exit status that is label\n",
    "label=df.iloc[:,13].values"
   ]
  },
  {
   "cell_type": "code",
   "execution_count": 11,
   "metadata": {},
   "outputs": [
    {
     "data": {
      "text/plain": [
       "array([1, 0, 1, ..., 1, 1, 0])"
      ]
     },
     "execution_count": 11,
     "metadata": {},
     "output_type": "execute_result"
    }
   ],
   "source": [
    "label"
   ]
  },
  {
   "cell_type": "code",
   "execution_count": 12,
   "metadata": {},
   "outputs": [],
   "source": [
    "# to convert string data into numeric we can apply label encoding\n",
    "from sklearn.preprocessing import LabelEncoder"
   ]
  },
  {
   "cell_type": "code",
   "execution_count": 13,
   "metadata": {},
   "outputs": [],
   "source": [
    "countenc=LabelEncoder()  # function call"
   ]
  },
  {
   "cell_type": "code",
   "execution_count": 14,
   "metadata": {},
   "outputs": [],
   "source": [
    "features[:,1]=countenc.fit_transform(features[:,1])"
   ]
  },
  {
   "cell_type": "code",
   "execution_count": 15,
   "metadata": {},
   "outputs": [],
   "source": [
    "# same for gender\n",
    "features[:,2]=countenc.fit_transform(features[:,2])"
   ]
  },
  {
   "cell_type": "code",
   "execution_count": 16,
   "metadata": {},
   "outputs": [],
   "source": [
    "# dummy variables using OneHotEncoder\n",
    "from sklearn.preprocessing import OneHotEncoder"
   ]
  },
  {
   "cell_type": "code",
   "execution_count": 17,
   "metadata": {},
   "outputs": [],
   "source": [
    "# calling function\n",
    "counthot=OneHotEncoder(categorical_features=[1])"
   ]
  },
  {
   "cell_type": "code",
   "execution_count": 18,
   "metadata": {},
   "outputs": [
    {
     "name": "stderr",
     "output_type": "stream",
     "text": [
      "/home/sj/.local/lib/python3.7/site-packages/sklearn/preprocessing/_encoders.py:415: FutureWarning: The handling of integer data will change in version 0.22. Currently, the categories are determined based on the range [0, max(values)], while in the future they will be determined based on the unique values.\n",
      "If you want the future behaviour and silence this warning, you can specify \"categories='auto'\".\n",
      "In case you used a LabelEncoder before this OneHotEncoder to convert the categories to integers, then you can now use the OneHotEncoder directly.\n",
      "  warnings.warn(msg, FutureWarning)\n",
      "/home/sj/.local/lib/python3.7/site-packages/sklearn/preprocessing/_encoders.py:451: DeprecationWarning: The 'categorical_features' keyword is deprecated in version 0.20 and will be removed in 0.22. You can use the ColumnTransformer instead.\n",
      "  \"use the ColumnTransformer instead.\", DeprecationWarning)\n"
     ]
    }
   ],
   "source": [
    "# fit and Transform\n",
    "features=counthot.fit_transform(features).toarray()\n",
    "features1=features[:,1:]"
   ]
  },
  {
   "cell_type": "code",
   "execution_count": 19,
   "metadata": {},
   "outputs": [
    {
     "data": {
      "text/plain": [
       "(10000, 11)"
      ]
     },
     "execution_count": 19,
     "metadata": {},
     "output_type": "execute_result"
    }
   ],
   "source": [
    "features1.shape"
   ]
  },
  {
   "cell_type": "code",
   "execution_count": 20,
   "metadata": {},
   "outputs": [],
   "source": [
    "# training and testing\n",
    "from sklearn.model_selection import train_test_split"
   ]
  },
  {
   "cell_type": "code",
   "execution_count": 21,
   "metadata": {},
   "outputs": [],
   "source": [
    "X,x,Y,y=train_test_split(features1,label,test_size=0.2)"
   ]
  },
  {
   "cell_type": "code",
   "execution_count": 22,
   "metadata": {},
   "outputs": [],
   "source": [
    "# feature Scaling\n",
    "from sklearn.preprocessing import  StandardScaler"
   ]
  },
  {
   "cell_type": "code",
   "execution_count": 23,
   "metadata": {},
   "outputs": [],
   "source": [
    "sc=StandardScaler()"
   ]
  },
  {
   "cell_type": "code",
   "execution_count": 24,
   "metadata": {},
   "outputs": [],
   "source": [
    "# training data scale\n",
    "X=sc.fit_transform(X)"
   ]
  },
  {
   "cell_type": "code",
   "execution_count": 25,
   "metadata": {},
   "outputs": [],
   "source": [
    "# testing data transform\n",
    "x=sc.transform(x)"
   ]
  },
  {
   "cell_type": "code",
   "execution_count": 26,
   "metadata": {},
   "outputs": [
    {
     "data": {
      "text/plain": [
       "(2000, 11)"
      ]
     },
     "execution_count": 26,
     "metadata": {},
     "output_type": "execute_result"
    }
   ],
   "source": [
    "#X\n",
    "x.shape"
   ]
  },
  {
   "cell_type": "markdown",
   "metadata": {},
   "source": [
    "#  Now we can create ANN model"
   ]
  },
  {
   "cell_type": "code",
   "execution_count": 27,
   "metadata": {},
   "outputs": [
    {
     "name": "stderr",
     "output_type": "stream",
     "text": [
      "Using TensorFlow backend.\n"
     ]
    }
   ],
   "source": [
    "import keras # this is the way of using tensorflow in background"
   ]
  },
  {
   "cell_type": "code",
   "execution_count": 28,
   "metadata": {},
   "outputs": [],
   "source": [
    "# keras ANN model library import\n",
    "from keras.models import Sequential"
   ]
  },
  {
   "cell_type": "code",
   "execution_count": 29,
   "metadata": {},
   "outputs": [],
   "source": [
    "# filling data in each layer --\n",
    "from keras.layers import Dense\n",
    "# this will give the method to decide activation function and number of nodes in each layer\n",
    "# including inout, hidden and output layer"
   ]
  },
  {
   "cell_type": "code",
   "execution_count": 30,
   "metadata": {},
   "outputs": [
    {
     "name": "stderr",
     "output_type": "stream",
     "text": [
      "WARNING: Logging before flag parsing goes to stderr.\n",
      "W0708 15:40:30.302835 140430763484992 deprecation_wrapper.py:119] From /home/sj/.local/lib/python3.7/site-packages/keras/backend/tensorflow_backend.py:74: The name tf.get_default_graph is deprecated. Please use tf.compat.v1.get_default_graph instead.\n",
      "\n"
     ]
    }
   ],
   "source": [
    "# now we can design Model\n",
    "model= Sequential()"
   ]
  },
  {
   "cell_type": "code",
   "execution_count": 35,
   "metadata": {},
   "outputs": [],
   "source": [
    "# now we can web add input layer\n",
    "model.add(Dense(6,input_shape=(11,),activation=\"relu\"))\n",
    "# relu -- means rectifier activation functuina\n"
   ]
  },
  {
   "cell_type": "code",
   "execution_count": 37,
   "metadata": {},
   "outputs": [],
   "source": [
    "# adding one more hidden laye\n",
    "model.add(Dense(6,activation='relu'))\n",
    "# now we don't have to assign numbers of inputs after first/ input layer"
   ]
  },
  {
   "cell_type": "code",
   "execution_count": 38,
   "metadata": {},
   "outputs": [],
   "source": [
    "# final layer adding\n",
    "model.add(Dense(1,activation='sigmoid'))"
   ]
  },
  {
   "cell_type": "code",
   "execution_count": 50,
   "metadata": {},
   "outputs": [],
   "source": [
    "# compile\n",
    "model.compile(optimizer='adam',loss='binary_crossentropy',metrics=[\"accuracy\"])\n",
    "# optimizer -- weight adjust method -- stochitis g d (adam)"
   ]
  },
  {
   "cell_type": "code",
   "execution_count": 51,
   "metadata": {},
   "outputs": [
    {
     "name": "stdout",
     "output_type": "stream",
     "text": [
      "Epoch 1/100\n",
      "8000/8000 [==============================] - 0s 41us/step - loss: 0.3235 - acc: 0.8682\n",
      "Epoch 2/100\n",
      "8000/8000 [==============================] - 0s 6us/step - loss: 0.3233 - acc: 0.8669\n",
      "Epoch 3/100\n",
      "8000/8000 [==============================] - 0s 6us/step - loss: 0.3229 - acc: 0.8676\n",
      "Epoch 4/100\n",
      "8000/8000 [==============================] - 0s 6us/step - loss: 0.3231 - acc: 0.8672\n",
      "Epoch 5/100\n",
      "8000/8000 [==============================] - 0s 6us/step - loss: 0.3233 - acc: 0.8674\n",
      "Epoch 6/100\n",
      "8000/8000 [==============================] - 0s 6us/step - loss: 0.3230 - acc: 0.8672\n",
      "Epoch 7/100\n",
      "8000/8000 [==============================] - 0s 6us/step - loss: 0.3233 - acc: 0.8676\n",
      "Epoch 8/100\n",
      "8000/8000 [==============================] - 0s 6us/step - loss: 0.3232 - acc: 0.8678\n",
      "Epoch 9/100\n",
      "8000/8000 [==============================] - 0s 8us/step - loss: 0.3229 - acc: 0.8678\n",
      "Epoch 10/100\n",
      "8000/8000 [==============================] - 0s 5us/step - loss: 0.3230 - acc: 0.8678\n",
      "Epoch 11/100\n",
      "8000/8000 [==============================] - 0s 5us/step - loss: 0.3231 - acc: 0.8676\n",
      "Epoch 12/100\n",
      "8000/8000 [==============================] - 0s 5us/step - loss: 0.3230 - acc: 0.8683\n",
      "Epoch 13/100\n",
      "8000/8000 [==============================] - 0s 6us/step - loss: 0.3228 - acc: 0.8678\n",
      "Epoch 14/100\n",
      "8000/8000 [==============================] - 0s 12us/step - loss: 0.3228 - acc: 0.8668\n",
      "Epoch 15/100\n",
      "8000/8000 [==============================] - 0s 9us/step - loss: 0.3228 - acc: 0.8677\n",
      "Epoch 16/100\n",
      "8000/8000 [==============================] - 0s 8us/step - loss: 0.3229 - acc: 0.8679\n",
      "Epoch 17/100\n",
      "8000/8000 [==============================] - 0s 8us/step - loss: 0.3231 - acc: 0.8675\n",
      "Epoch 18/100\n",
      "8000/8000 [==============================] - 0s 8us/step - loss: 0.3229 - acc: 0.8684\n",
      "Epoch 19/100\n",
      "8000/8000 [==============================] - 0s 10us/step - loss: 0.3229 - acc: 0.8674\n",
      "Epoch 20/100\n",
      "8000/8000 [==============================] - 0s 9us/step - loss: 0.3226 - acc: 0.8681\n",
      "Epoch 21/100\n",
      "8000/8000 [==============================] - 0s 8us/step - loss: 0.3229 - acc: 0.8681\n",
      "Epoch 22/100\n",
      "8000/8000 [==============================] - 0s 8us/step - loss: 0.3227 - acc: 0.8684\n",
      "Epoch 23/100\n",
      "8000/8000 [==============================] - 0s 10us/step - loss: 0.3228 - acc: 0.8675\n",
      "Epoch 24/100\n",
      "8000/8000 [==============================] - 0s 8us/step - loss: 0.3232 - acc: 0.8675\n",
      "Epoch 25/100\n",
      "8000/8000 [==============================] - 0s 9us/step - loss: 0.3229 - acc: 0.8681\n",
      "Epoch 26/100\n",
      "8000/8000 [==============================] - 0s 6us/step - loss: 0.3227 - acc: 0.8674\n",
      "Epoch 27/100\n",
      "8000/8000 [==============================] - 0s 6us/step - loss: 0.3231 - acc: 0.8682\n",
      "Epoch 28/100\n",
      "8000/8000 [==============================] - 0s 6us/step - loss: 0.3227 - acc: 0.8684\n",
      "Epoch 29/100\n",
      "8000/8000 [==============================] - 0s 6us/step - loss: 0.3231 - acc: 0.8675\n",
      "Epoch 30/100\n",
      "8000/8000 [==============================] - 0s 6us/step - loss: 0.3226 - acc: 0.8671\n",
      "Epoch 31/100\n",
      "8000/8000 [==============================] - 0s 7us/step - loss: 0.3226 - acc: 0.8684\n",
      "Epoch 32/100\n",
      "8000/8000 [==============================] - 0s 6us/step - loss: 0.3225 - acc: 0.8679\n",
      "Epoch 33/100\n",
      "8000/8000 [==============================] - 0s 6us/step - loss: 0.3226 - acc: 0.8677\n",
      "Epoch 34/100\n",
      "8000/8000 [==============================] - 0s 7us/step - loss: 0.3229 - acc: 0.8676\n",
      "Epoch 35/100\n",
      "8000/8000 [==============================] - 0s 6us/step - loss: 0.3229 - acc: 0.8678\n",
      "Epoch 36/100\n",
      "8000/8000 [==============================] - 0s 6us/step - loss: 0.3228 - acc: 0.8676\n",
      "Epoch 37/100\n",
      "8000/8000 [==============================] - 0s 6us/step - loss: 0.3225 - acc: 0.8679\n",
      "Epoch 38/100\n",
      "8000/8000 [==============================] - 0s 7us/step - loss: 0.3226 - acc: 0.8681\n",
      "Epoch 39/100\n",
      "8000/8000 [==============================] - 0s 6us/step - loss: 0.3225 - acc: 0.8680\n",
      "Epoch 40/100\n",
      "8000/8000 [==============================] - 0s 6us/step - loss: 0.3225 - acc: 0.8680\n",
      "Epoch 41/100\n",
      "8000/8000 [==============================] - 0s 6us/step - loss: 0.3225 - acc: 0.8678\n",
      "Epoch 42/100\n",
      "8000/8000 [==============================] - 0s 6us/step - loss: 0.3229 - acc: 0.8676\n",
      "Epoch 43/100\n",
      "8000/8000 [==============================] - 0s 6us/step - loss: 0.3225 - acc: 0.8671\n",
      "Epoch 44/100\n",
      "8000/8000 [==============================] - 0s 6us/step - loss: 0.3226 - acc: 0.8680\n",
      "Epoch 45/100\n",
      "8000/8000 [==============================] - 0s 6us/step - loss: 0.3226 - acc: 0.8671\n",
      "Epoch 46/100\n",
      "8000/8000 [==============================] - 0s 6us/step - loss: 0.3224 - acc: 0.8684\n",
      "Epoch 47/100\n",
      "8000/8000 [==============================] - 0s 6us/step - loss: 0.3226 - acc: 0.8671\n",
      "Epoch 48/100\n",
      "8000/8000 [==============================] - 0s 8us/step - loss: 0.3225 - acc: 0.8671\n",
      "Epoch 49/100\n",
      "8000/8000 [==============================] - 0s 7us/step - loss: 0.3224 - acc: 0.8677\n",
      "Epoch 50/100\n",
      "8000/8000 [==============================] - 0s 8us/step - loss: 0.3225 - acc: 0.8680\n",
      "Epoch 51/100\n",
      "8000/8000 [==============================] - 0s 7us/step - loss: 0.3225 - acc: 0.8676\n",
      "Epoch 52/100\n",
      "8000/8000 [==============================] - 0s 6us/step - loss: 0.3226 - acc: 0.8675\n",
      "Epoch 53/100\n",
      "8000/8000 [==============================] - 0s 7us/step - loss: 0.3225 - acc: 0.8671\n",
      "Epoch 54/100\n",
      "8000/8000 [==============================] - 0s 6us/step - loss: 0.3226 - acc: 0.8681\n",
      "Epoch 55/100\n",
      "8000/8000 [==============================] - 0s 6us/step - loss: 0.3224 - acc: 0.8680\n",
      "Epoch 56/100\n",
      "8000/8000 [==============================] - 0s 6us/step - loss: 0.3224 - acc: 0.8676\n",
      "Epoch 57/100\n",
      "8000/8000 [==============================] - 0s 6us/step - loss: 0.3225 - acc: 0.8676\n",
      "Epoch 58/100\n",
      "8000/8000 [==============================] - 0s 6us/step - loss: 0.3225 - acc: 0.8677\n",
      "Epoch 59/100\n",
      "8000/8000 [==============================] - 0s 6us/step - loss: 0.3225 - acc: 0.8666\n",
      "Epoch 60/100\n",
      "8000/8000 [==============================] - 0s 6us/step - loss: 0.3227 - acc: 0.8666\n",
      "Epoch 61/100\n",
      "8000/8000 [==============================] - 0s 6us/step - loss: 0.3227 - acc: 0.8670\n",
      "Epoch 62/100\n",
      "8000/8000 [==============================] - 0s 5us/step - loss: 0.3227 - acc: 0.8674\n",
      "Epoch 63/100\n",
      "8000/8000 [==============================] - 0s 7us/step - loss: 0.3224 - acc: 0.8684\n",
      "Epoch 64/100\n",
      "8000/8000 [==============================] - 0s 6us/step - loss: 0.3224 - acc: 0.8679\n",
      "Epoch 65/100\n",
      "8000/8000 [==============================] - 0s 6us/step - loss: 0.3223 - acc: 0.8674\n",
      "Epoch 66/100\n",
      "8000/8000 [==============================] - 0s 6us/step - loss: 0.3222 - acc: 0.8670\n",
      "Epoch 67/100\n",
      "8000/8000 [==============================] - 0s 6us/step - loss: 0.3221 - acc: 0.8675\n",
      "Epoch 68/100\n",
      "8000/8000 [==============================] - 0s 7us/step - loss: 0.3223 - acc: 0.8673\n",
      "Epoch 69/100\n",
      "8000/8000 [==============================] - 0s 6us/step - loss: 0.3222 - acc: 0.8679\n",
      "Epoch 70/100\n",
      "8000/8000 [==============================] - 0s 6us/step - loss: 0.3223 - acc: 0.8673\n",
      "Epoch 71/100\n",
      "8000/8000 [==============================] - 0s 7us/step - loss: 0.3224 - acc: 0.8670\n",
      "Epoch 72/100\n",
      "8000/8000 [==============================] - 0s 6us/step - loss: 0.3225 - acc: 0.8675\n",
      "Epoch 73/100\n",
      "8000/8000 [==============================] - 0s 6us/step - loss: 0.3222 - acc: 0.8677\n",
      "Epoch 74/100\n",
      "8000/8000 [==============================] - 0s 6us/step - loss: 0.3223 - acc: 0.8679\n",
      "Epoch 75/100\n",
      "8000/8000 [==============================] - 0s 6us/step - loss: 0.3222 - acc: 0.8674\n",
      "Epoch 76/100\n",
      "8000/8000 [==============================] - 0s 5us/step - loss: 0.3226 - acc: 0.8673\n",
      "Epoch 77/100\n",
      "8000/8000 [==============================] - 0s 5us/step - loss: 0.3223 - acc: 0.8676\n",
      "Epoch 78/100\n",
      "8000/8000 [==============================] - 0s 6us/step - loss: 0.3223 - acc: 0.8665\n",
      "Epoch 79/100\n",
      "8000/8000 [==============================] - 0s 6us/step - loss: 0.3223 - acc: 0.8675\n",
      "Epoch 80/100\n",
      "8000/8000 [==============================] - 0s 6us/step - loss: 0.3222 - acc: 0.8671\n",
      "Epoch 81/100\n",
      "8000/8000 [==============================] - 0s 6us/step - loss: 0.3222 - acc: 0.8683\n",
      "Epoch 82/100\n",
      "8000/8000 [==============================] - 0s 6us/step - loss: 0.3221 - acc: 0.8671\n",
      "Epoch 83/100\n"
     ]
    },
    {
     "name": "stdout",
     "output_type": "stream",
     "text": [
      "8000/8000 [==============================] - 0s 6us/step - loss: 0.3224 - acc: 0.8671\n",
      "Epoch 84/100\n",
      "8000/8000 [==============================] - 0s 6us/step - loss: 0.3220 - acc: 0.8668\n",
      "Epoch 85/100\n",
      "8000/8000 [==============================] - 0s 6us/step - loss: 0.3221 - acc: 0.8673\n",
      "Epoch 86/100\n",
      "8000/8000 [==============================] - 0s 5us/step - loss: 0.3224 - acc: 0.8674\n",
      "Epoch 87/100\n",
      "8000/8000 [==============================] - 0s 6us/step - loss: 0.3221 - acc: 0.8677\n",
      "Epoch 88/100\n",
      "8000/8000 [==============================] - 0s 6us/step - loss: 0.3221 - acc: 0.8680\n",
      "Epoch 89/100\n",
      "8000/8000 [==============================] - 0s 5us/step - loss: 0.3221 - acc: 0.8676\n",
      "Epoch 90/100\n",
      "8000/8000 [==============================] - 0s 6us/step - loss: 0.3220 - acc: 0.8676\n",
      "Epoch 91/100\n",
      "8000/8000 [==============================] - 0s 6us/step - loss: 0.3221 - acc: 0.8680\n",
      "Epoch 92/100\n",
      "8000/8000 [==============================] - 0s 6us/step - loss: 0.3221 - acc: 0.8680\n",
      "Epoch 93/100\n",
      "8000/8000 [==============================] - 0s 5us/step - loss: 0.3220 - acc: 0.8681\n",
      "Epoch 94/100\n",
      "8000/8000 [==============================] - 0s 6us/step - loss: 0.3225 - acc: 0.8676\n",
      "Epoch 95/100\n",
      "8000/8000 [==============================] - 0s 6us/step - loss: 0.3223 - acc: 0.8664\n",
      "Epoch 96/100\n",
      "8000/8000 [==============================] - 0s 5us/step - loss: 0.3223 - acc: 0.8676\n",
      "Epoch 97/100\n",
      "8000/8000 [==============================] - 0s 5us/step - loss: 0.3220 - acc: 0.8675\n",
      "Epoch 98/100\n",
      "8000/8000 [==============================] - 0s 6us/step - loss: 0.3219 - acc: 0.8672\n",
      "Epoch 99/100\n",
      "8000/8000 [==============================] - 0s 5us/step - loss: 0.3223 - acc: 0.8674\n",
      "Epoch 100/100\n",
      "8000/8000 [==============================] - 0s 5us/step - loss: 0.3220 - acc: 0.8665\n"
     ]
    },
    {
     "data": {
      "text/plain": [
       "<keras.callbacks.History at 0x7fb8207becf8>"
      ]
     },
     "execution_count": 51,
     "metadata": {},
     "output_type": "execute_result"
    }
   ],
   "source": [
    "# training data fit \n",
    "model.fit(X,Y,batch_size=200,epochs=100)"
   ]
  },
  {
   "cell_type": "code",
   "execution_count": 53,
   "metadata": {},
   "outputs": [
    {
     "data": {
      "text/plain": [
       "array([[0.05116278],\n",
       "       [0.09055185],\n",
       "       [0.39589024],\n",
       "       ...,\n",
       "       [0.32624885],\n",
       "       [0.09520891],\n",
       "       [0.12209076]], dtype=float32)"
      ]
     },
     "execution_count": 53,
     "metadata": {},
     "output_type": "execute_result"
    }
   ],
   "source": [
    "model.predict(x)"
   ]
  },
  {
   "cell_type": "code",
   "execution_count": null,
   "metadata": {},
   "outputs": [],
   "source": [
    "# accuracy score -- confusion matrix\n"
   ]
  }
 ],
 "metadata": {
  "kernelspec": {
   "display_name": "Python 3",
   "language": "python",
   "name": "python3"
  },
  "language_info": {
   "codemirror_mode": {
    "name": "ipython",
    "version": 3
   },
   "file_extension": ".py",
   "mimetype": "text/x-python",
   "name": "python",
   "nbconvert_exporter": "python",
   "pygments_lexer": "ipython3",
   "version": "3.7.3"
  }
 },
 "nbformat": 4,
 "nbformat_minor": 2
}
