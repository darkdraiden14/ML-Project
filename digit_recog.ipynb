{
 "cells": [
  {
   "cell_type": "code",
   "execution_count": 1,
   "metadata": {},
   "outputs": [],
   "source": [
    "#  laoding  digits  data\n",
    "from  sklearn.datasets  import  load_digits"
   ]
  },
  {
   "cell_type": "code",
   "execution_count": 2,
   "metadata": {},
   "outputs": [],
   "source": [
    "digit_data=load_digits()  #  loaded  data"
   ]
  },
  {
   "cell_type": "code",
   "execution_count": 3,
   "metadata": {},
   "outputs": [
    {
     "data": {
      "text/plain": [
       "['DESCR', 'data', 'images', 'target', 'target_names']"
      ]
     },
     "execution_count": 3,
     "metadata": {},
     "output_type": "execute_result"
    }
   ],
   "source": [
    "#  exploring  data\n",
    "dir(digit_data)"
   ]
  },
  {
   "cell_type": "code",
   "execution_count": 4,
   "metadata": {},
   "outputs": [
    {
     "data": {
      "text/plain": [
       "array([0, 1, 2, 3, 4, 5, 6, 7, 8, 9])"
      ]
     },
     "execution_count": 4,
     "metadata": {},
     "output_type": "execute_result"
    }
   ],
   "source": [
    "#  output that we want --\n",
    "digit_data.target_names"
   ]
  },
  {
   "cell_type": "code",
   "execution_count": 5,
   "metadata": {},
   "outputs": [],
   "source": [
    "#  describing  data\n",
    "#digit_data.DESCR"
   ]
  },
  {
   "cell_type": "code",
   "execution_count": 6,
   "metadata": {},
   "outputs": [],
   "source": [
    "#  training  data\n",
    "features=digit_data.data"
   ]
  },
  {
   "cell_type": "code",
   "execution_count": 7,
   "metadata": {},
   "outputs": [
    {
     "data": {
      "text/plain": [
       "(1797, 64)"
      ]
     },
     "execution_count": 7,
     "metadata": {},
     "output_type": "execute_result"
    }
   ],
   "source": [
    "# shape \n",
    "features.shape"
   ]
  },
  {
   "cell_type": "code",
   "execution_count": 8,
   "metadata": {},
   "outputs": [],
   "source": [
    "#  label\n",
    "label=digit_data.target"
   ]
  },
  {
   "cell_type": "code",
   "execution_count": 9,
   "metadata": {},
   "outputs": [
    {
     "data": {
      "text/plain": [
       "(1797,)"
      ]
     },
     "execution_count": 9,
     "metadata": {},
     "output_type": "execute_result"
    }
   ],
   "source": [
    "# shape of label\n",
    "label.shape"
   ]
  },
  {
   "cell_type": "code",
   "execution_count": 10,
   "metadata": {},
   "outputs": [],
   "source": [
    "#   actual  images  \n",
    "images=digit_data.images"
   ]
  },
  {
   "cell_type": "code",
   "execution_count": 11,
   "metadata": {},
   "outputs": [
    {
     "data": {
      "text/plain": [
       "array([[ 0.,  0.,  5., 13.,  9.,  1.,  0.,  0.],\n",
       "       [ 0.,  0., 13., 15., 10., 15.,  5.,  0.],\n",
       "       [ 0.,  3., 15.,  2.,  0., 11.,  8.,  0.],\n",
       "       [ 0.,  4., 12.,  0.,  0.,  8.,  8.,  0.],\n",
       "       [ 0.,  5.,  8.,  0.,  0.,  9.,  8.,  0.],\n",
       "       [ 0.,  4., 11.,  0.,  1., 12.,  7.,  0.],\n",
       "       [ 0.,  2., 14.,  5., 10., 12.,  0.,  0.],\n",
       "       [ 0.,  0.,  6., 13., 10.,  0.,  0.,  0.]])"
      ]
     },
     "execution_count": 11,
     "metadata": {},
     "output_type": "execute_result"
    }
   ],
   "source": [
    "images[0]   #   image  of  zero "
   ]
  },
  {
   "cell_type": "code",
   "execution_count": 12,
   "metadata": {},
   "outputs": [],
   "source": [
    "#  visual of zero  \n",
    "import  matplotlib.pyplot  as  plt"
   ]
  },
  {
   "cell_type": "code",
   "execution_count": 13,
   "metadata": {},
   "outputs": [
    {
     "data": {
      "text/plain": [
       "<matplotlib.image.AxesImage at 0x7fcca195c470>"
      ]
     },
     "execution_count": 13,
     "metadata": {},
     "output_type": "execute_result"
    },
    {
     "data": {
      "image/png": "[encoded data removed]",
      "text/plain": [
       "<Figure size 432x288 with 1 Axes>"
      ]
     },
     "metadata": {},
     "output_type": "display_data"
    }
   ],
   "source": [
    "plt.imshow(images[5])"
   ]
  },
  {
   "cell_type": "code",
   "execution_count": 14,
   "metadata": {},
   "outputs": [],
   "source": [
    "#training and testing\n",
    "from sklearn.model_selection import train_test_split"
   ]
  },
  {
   "cell_type": "code",
   "execution_count": 38,
   "metadata": {},
   "outputs": [],
   "source": [
    "X,x,Y,y=train_test_split(features,label,test_size=0.2)"
   ]
  },
  {
   "cell_type": "code",
   "execution_count": 39,
   "metadata": {},
   "outputs": [],
   "source": [
    "# now calling SVC\n",
    "from sklearn.svm import SVC"
   ]
  },
  {
   "cell_type": "code",
   "execution_count": 40,
   "metadata": {},
   "outputs": [],
   "source": [
    "# calling clf\n",
    "clf = SVC()"
   ]
  },
  {
   "cell_type": "code",
   "execution_count": 41,
   "metadata": {},
   "outputs": [
    {
     "name": "stderr",
     "output_type": "stream",
     "text": [
      "/usr/local/lib/python3.6/dist-packages/sklearn/svm/base.py:193: FutureWarning: The default value of gamma will change from 'auto' to 'scale' in version 0.22 to account better for unscaled features. Set gamma explicitly to 'auto' or 'scale' to avoid this warning.\n",
      "  \"avoid this warning.\", FutureWarning)\n"
     ]
    }
   ],
   "source": [
    "# now training my clf\n",
    "trained=clf.fit(X,Y)"
   ]
  },
  {
   "cell_type": "code",
   "execution_count": 42,
   "metadata": {},
   "outputs": [],
   "source": [
    "# now time for prediction\n",
    "output=trained.predict(x)"
   ]
  },
  {
   "cell_type": "code",
   "execution_count": 43,
   "metadata": {},
   "outputs": [
    {
     "data": {
      "text/plain": [
       "array([5, 5, 5, 5, 5, 2, 5, 5, 4, 5, 2, 5, 1, 5, 5, 7, 7, 5, 5, 1, 3, 2,\n",
       "       1, 5, 7, 5, 0, 5, 5, 5, 5, 5, 0, 3, 5, 6, 5, 6, 5, 3, 6, 6, 5, 5,\n",
       "       3, 1, 5, 5, 6, 6, 5, 6, 5, 5, 5, 3, 4, 5, 5, 6, 5, 5, 5, 4, 5, 5,\n",
       "       5, 9, 5, 4, 3, 5, 7, 2, 7, 5, 5, 5, 8, 5, 6, 5, 5, 5, 0, 5, 5, 5,\n",
       "       5, 5, 8, 5, 5, 5, 0, 6, 4, 5, 5, 5, 1, 5, 6, 5, 5, 5, 5, 5, 5, 5,\n",
       "       5, 5, 5, 1, 5, 5, 5, 5, 1, 5, 5, 5, 0, 5, 5, 5, 0, 5, 5, 5, 5, 5,\n",
       "       5, 5, 7, 0, 3, 5, 5, 6, 4, 3, 5, 5, 1, 5, 5, 0, 0, 5, 7, 6, 5, 6,\n",
       "       5, 5, 5, 6, 5, 5, 5, 5, 7, 5, 4, 5, 3, 5, 5, 5, 4, 6, 5, 5, 5, 5,\n",
       "       5, 5, 1, 5, 5, 1, 5, 2, 5, 0, 7, 5, 4, 3, 9, 5, 5, 5, 5, 5, 2, 5,\n",
       "       5, 5, 5, 7, 2, 1, 5, 5, 5, 5, 7, 5, 5, 5, 5, 5, 5, 0, 5, 7, 9, 5,\n",
       "       5, 6, 7, 4, 5, 3, 5, 5, 1, 5, 5, 5, 5, 5, 5, 5, 5, 5, 2, 5, 5, 5,\n",
       "       5, 5, 0, 4, 5, 5, 5, 5, 2, 7, 4, 5, 5, 5, 9, 2, 1, 5, 5, 3, 5, 9,\n",
       "       5, 6, 5, 7, 0, 5, 2, 5, 5, 9, 5, 5, 5, 6, 5, 5, 5, 5, 5, 5, 5, 5,\n",
       "       5, 1, 5, 5, 5, 7, 5, 5, 8, 5, 5, 5, 4, 5, 5, 5, 4, 5, 0, 6, 5, 2,\n",
       "       3, 5, 5, 9, 6, 5, 6, 3, 5, 5, 5, 6, 5, 5, 2, 1, 5, 0, 4, 5, 7, 7,\n",
       "       0, 5, 5, 0, 5, 5, 5, 3, 5, 5, 5, 5, 0, 5, 3, 9, 5, 5, 0, 5, 5, 5,\n",
       "       6, 5, 7, 9, 5, 4, 4, 5])"
      ]
     },
     "execution_count": 43,
     "metadata": {},
     "output_type": "execute_result"
    }
   ],
   "source": [
    "output"
   ]
  },
  {
   "cell_type": "code",
   "execution_count": 44,
   "metadata": {},
   "outputs": [
    {
     "data": {
      "text/plain": [
       "array([3, 6, 8, 5, 0, 2, 4, 9, 4, 9, 2, 3, 1, 5, 7, 7, 7, 0, 9, 1, 3, 2,\n",
       "       1, 9, 7, 3, 0, 8, 5, 5, 1, 1, 0, 3, 5, 6, 9, 6, 5, 3, 6, 6, 3, 2,\n",
       "       3, 1, 8, 5, 6, 6, 7, 6, 2, 9, 2, 3, 4, 0, 9, 6, 6, 5, 1, 4, 7, 8,\n",
       "       6, 9, 0, 4, 3, 7, 7, 2, 7, 5, 1, 9, 8, 8, 6, 5, 0, 7, 0, 9, 7, 3,\n",
       "       9, 7, 8, 5, 2, 8, 0, 6, 4, 9, 5, 7, 1, 2, 6, 4, 2, 4, 1, 6, 1, 3,\n",
       "       7, 7, 9, 1, 5, 9, 5, 6, 1, 8, 9, 6, 0, 2, 2, 9, 0, 2, 5, 9, 1, 1,\n",
       "       5, 5, 7, 0, 3, 3, 8, 6, 4, 3, 8, 2, 1, 9, 8, 0, 0, 3, 7, 6, 4, 6,\n",
       "       6, 2, 6, 6, 9, 1, 3, 4, 7, 8, 4, 4, 3, 8, 4, 0, 4, 6, 0, 8, 9, 5,\n",
       "       3, 1, 1, 4, 2, 1, 2, 2, 2, 0, 7, 4, 4, 3, 9, 7, 7, 3, 8, 9, 2, 4,\n",
       "       9, 3, 8, 7, 2, 1, 9, 4, 2, 5, 7, 8, 0, 4, 4, 0, 8, 0, 5, 7, 9, 5,\n",
       "       8, 6, 7, 4, 9, 3, 6, 8, 1, 3, 4, 6, 5, 1, 0, 0, 9, 8, 2, 2, 8, 9,\n",
       "       3, 5, 0, 4, 5, 3, 8, 9, 2, 7, 4, 9, 8, 9, 9, 2, 1, 3, 8, 3, 8, 9,\n",
       "       5, 6, 7, 7, 0, 8, 2, 3, 5, 9, 8, 3, 5, 6, 0, 8, 5, 4, 5, 5, 5, 9,\n",
       "       2, 1, 8, 6, 1, 7, 4, 4, 8, 9, 0, 4, 4, 3, 5, 9, 4, 9, 0, 6, 2, 2,\n",
       "       3, 9, 3, 9, 6, 6, 6, 3, 3, 4, 3, 6, 3, 6, 2, 1, 5, 0, 4, 8, 7, 7,\n",
       "       0, 6, 7, 0, 5, 9, 9, 3, 7, 9, 3, 7, 0, 2, 3, 9, 7, 4, 0, 3, 8, 7,\n",
       "       6, 9, 7, 9, 8, 4, 4, 1])"
      ]
     },
     "execution_count": 44,
     "metadata": {},
     "output_type": "execute_result"
    }
   ],
   "source": [
    "y"
   ]
  },
  {
   "cell_type": "code",
   "execution_count": 46,
   "metadata": {},
   "outputs": [
    {
     "data": {
      "text/plain": [
       "0.46944444444444444"
      ]
     },
     "execution_count": 46,
     "metadata": {},
     "output_type": "execute_result"
    }
   ],
   "source": [
    "# check accuracy score\n",
    "from sklearn.metrics import accuracy_score\n",
    "accuracy_score(y,output)"
   ]
  },
  {
   "cell_type": "code",
   "execution_count": null,
   "metadata": {},
   "outputs": [],
   "source": []
  }
 ],
 "metadata": {
  "kernelspec": {
   "display_name": "Python 3",
   "language": "python",
   "name": "python3"
  },
  "language_info": {
   "codemirror_mode": {
    "name": "ipython",
    "version": 3
   },
   "file_extension": ".py",
   "mimetype": "text/x-python",
   "name": "python",
   "nbconvert_exporter": "python",
   "pygments_lexer": "ipython3",
   "version": "3.6.7"
  }
 },
 "nbformat": 4,
 "nbformat_minor": 2
}
